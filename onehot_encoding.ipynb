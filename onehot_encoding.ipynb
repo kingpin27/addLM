{
 "cells": [
  {
   "cell_type": "code",
   "execution_count": 1,
   "id": "39307253-cfd3-4b32-83fb-0133f28444e3",
   "metadata": {},
   "outputs": [],
   "source": [
    "import torch\n",
    "import torch.nn.functional as F\n",
    "\n",
    "def efficient_onehot(tensor, num_classes):\n",
    "    \"\"\"\n",
    "    Memory-efficient one-hot encoding using different methods based on tensor size.\n",
    "    \n",
    "    Args:\n",
    "        tensor: Input tensor of shape (N,) or (N, 1) or (N, M)\n",
    "        num_classes: Number of classes for one-hot encoding\n",
    "    \n",
    "    Returns:\n",
    "        One-hot encoded tensor\n",
    "    \"\"\"\n",
    "    # Ensure tensor is in the right shape\n",
    "    if tensor.dim() > 2:\n",
    "        raise ValueError(\"Input tensor must be 1D or 2D\")\n",
    "    \n",
    "    # If tensor is 2D with more than 1 column, we need to handle each column\n",
    "    if tensor.dim() == 2 and tensor.size(1) > 1:\n",
    "        # Process each column separately to avoid memory issues\n",
    "        results = []\n",
    "        for i in range(tensor.size(1)):\n",
    "            col = tensor[:, i].unsqueeze(1)  # Shape: [N, 1]\n",
    "            col_onehot = efficient_onehot(col, num_classes)  # Recursive call\n",
    "            results.append(col_onehot)\n",
    "        return torch.stack(results, dim=1)  # Stack along new dimension\n",
    "    \n",
    "    # Method 1: Using scatter (memory efficient for smaller tensors)\n",
    "    def scatter_onehot(tensor, num_classes):\n",
    "        if tensor.dim() == 1:\n",
    "            tensor = tensor.unsqueeze(1)\n",
    "        onehot = torch.zeros(tensor.size(0), num_classes, \n",
    "                           device=tensor.device, dtype=torch.float32)\n",
    "        return onehot.scatter_(1, tensor.long(), 1)\n",
    "    \n",
    "    # Method 2: Using F.one_hot with chunking (for larger tensors)\n",
    "    def chunked_onehot(tensor, num_classes, chunk_size=1000):\n",
    "        if tensor.dim() == 2:\n",
    "            tensor = tensor.squeeze(1)\n",
    "        \n",
    "        chunks = tensor.split(chunk_size)\n",
    "        result_chunks = []\n",
    "        \n",
    "        for chunk in chunks:\n",
    "            chunk_onehot = F.one_hot(chunk.long(), num_classes).float()\n",
    "            result_chunks.append(chunk_onehot)\n",
    "            \n",
    "        return torch.cat(result_chunks, dim=0)\n",
    "    \n",
    "    # Method 3: Using sparse tensors (extremely memory efficient)\n",
    "    def sparse_onehot(tensor, num_classes):\n",
    "        if tensor.dim() == 2:\n",
    "            tensor = tensor.squeeze(1)\n",
    "        \n",
    "        size = (tensor.size(0), num_classes)\n",
    "        indices = torch.stack([\n",
    "            torch.arange(tensor.size(0), device=tensor.device),\n",
    "            tensor.long()  # Ensure tensor is long type\n",
    "        ])\n",
    "        values = torch.ones(tensor.size(0), device=tensor.device)\n",
    "        return torch.sparse_coo_tensor(indices, values, size)\n",
    "\n",
    "    # Choose method based on tensor size and available memory\n",
    "    total_elements = tensor.size(0) * num_classes\n",
    "    \n",
    "    if total_elements < 1e6:  # Less than 1M elements\n",
    "        return scatter_onehot(tensor, num_classes)\n",
    "    elif total_elements < 1e8:  # Less than 100M elements\n",
    "        return chunked_onehot(tensor, num_classes)\n",
    "    else:\n",
    "        return sparse_onehot(tensor, num_classes)"
   ]
  },
  {
   "cell_type": "code",
   "execution_count": 6,
   "id": "4ee26ad1-1807-40f1-8a24-66c289349372",
   "metadata": {},
   "outputs": [
    {
     "name": "stderr",
     "output_type": "stream",
     "text": [
      "/var/folders/58/cklnxwv512v90_f9p_ht0hzc0000gn/T/ipykernel_15710/1633492156.py:1: FutureWarning: You are using `torch.load` with `weights_only=False` (the current default value), which uses the default pickle module implicitly. It is possible to construct malicious pickle data which will execute arbitrary code during unpickling (See https://github.com/pytorch/pytorch/blob/main/SECURITY.md#untrusted-models for more details). In a future release, the default value for `weights_only` will be flipped to `True`. This limits the functions that could be executed during unpickling. Arbitrary objects will no longer be allowed to be loaded via this mode unless they are explicitly allowlisted by the user via `torch.serialization.add_safe_globals`. We recommend you start setting `weights_only=True` for any use case where you don't have full control of the loaded file. Please open an issue on GitHub for any issues related to this experimental feature.\n",
      "  X = torch.load(\"X.pt\")\n"
     ]
    }
   ],
   "source": [
    "X = torch.load(\"X.pt\")"
   ]
  },
  {
   "cell_type": "code",
   "execution_count": 7,
   "id": "1fe1b233-0e3b-417d-8c43-65a157867a09",
   "metadata": {},
   "outputs": [
    {
     "data": {
      "text/plain": [
       "torch.Size([7921450, 64])"
      ]
     },
     "execution_count": 7,
     "metadata": {},
     "output_type": "execute_result"
    }
   ],
   "source": [
    "X.shape"
   ]
  },
  {
   "cell_type": "code",
   "execution_count": 8,
   "id": "268d1599-d104-46e4-bcd7-49a31f470a35",
   "metadata": {},
   "outputs": [],
   "source": [
    "X_OH = efficient_onehot(X,22)"
   ]
  },
  {
   "cell_type": "code",
   "execution_count": 9,
   "id": "48707d5d-bf47-4818-8174-b563a552005f",
   "metadata": {},
   "outputs": [
    {
     "data": {
      "text/plain": [
       "torch.Size([7921450, 64, 22])"
      ]
     },
     "execution_count": 9,
     "metadata": {},
     "output_type": "execute_result"
    }
   ],
   "source": [
    "X_OH.shape"
   ]
  },
  {
   "cell_type": "code",
   "execution_count": 12,
   "id": "b820f634-1b44-401b-be7f-bb5725664ea2",
   "metadata": {},
   "outputs": [],
   "source": [
    "torch.save(X,'X_OH.pt')"
   ]
  },
  {
   "cell_type": "code",
   "execution_count": 2,
   "id": "40576b7d-bf13-487b-9deb-531e54c840c2",
   "metadata": {},
   "outputs": [
    {
     "name": "stderr",
     "output_type": "stream",
     "text": [
      "/var/folders/58/cklnxwv512v90_f9p_ht0hzc0000gn/T/ipykernel_16061/3530214369.py:1: FutureWarning: You are using `torch.load` with `weights_only=False` (the current default value), which uses the default pickle module implicitly. It is possible to construct malicious pickle data which will execute arbitrary code during unpickling (See https://github.com/pytorch/pytorch/blob/main/SECURITY.md#untrusted-models for more details). In a future release, the default value for `weights_only` will be flipped to `True`. This limits the functions that could be executed during unpickling. Arbitrary objects will no longer be allowed to be loaded via this mode unless they are explicitly allowlisted by the user via `torch.serialization.add_safe_globals`. We recommend you start setting `weights_only=True` for any use case where you don't have full control of the loaded file. Please open an issue on GitHub for any issues related to this experimental feature.\n",
      "  Y = torch.load(\"Y.pt\")\n"
     ]
    }
   ],
   "source": [
    "Y = torch.load(\"Y.pt\")"
   ]
  },
  {
   "cell_type": "code",
   "execution_count": 3,
   "id": "61e241b0-360f-4fc4-adcf-c183f010d7a5",
   "metadata": {},
   "outputs": [],
   "source": [
    "Y_OH = efficient_onehot(Y,22)"
   ]
  },
  {
   "cell_type": "code",
   "execution_count": 4,
   "id": "349d123d-ad2f-48c7-984b-b5858b66d219",
   "metadata": {},
   "outputs": [],
   "source": [
    "torch.save(Y,'Y_OH.pt')"
   ]
  }
 ],
 "metadata": {
  "kernelspec": {
   "display_name": "Python 3 (ipykernel)",
   "language": "python",
   "name": "python3"
  },
  "language_info": {
   "codemirror_mode": {
    "name": "ipython",
    "version": 3
   },
   "file_extension": ".py",
   "mimetype": "text/x-python",
   "name": "python",
   "nbconvert_exporter": "python",
   "pygments_lexer": "ipython3",
   "version": "3.11.11"
  }
 },
 "nbformat": 4,
 "nbformat_minor": 5
}
