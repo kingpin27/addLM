{
 "cells": [
  {
   "cell_type": "code",
   "execution_count": 10,
   "id": "aedd13fe-b484-47bf-9e6a-ea7f380f55d5",
   "metadata": {},
   "outputs": [],
   "source": [
    "import numpy as np\n",
    "import pandas as pd\n",
    "from nltk.tokenize import RegexpTokenizer\n",
    "import torch"
   ]
  },
  {
   "cell_type": "code",
   "execution_count": 2,
   "id": "fb188352-5553-4b56-babb-106b9b306dd6",
   "metadata": {},
   "outputs": [
    {
     "data": {
      "text/plain": [
       "'<reason><digit_sum>5</digit_sum><carry>0</carry><digit_sum>5</digit_sum><carry>0</carry><digit_sum>1</digit_sum><carry>0</carry></reason>'"
      ]
     },
     "execution_count": 2,
     "metadata": {},
     "output_type": "execute_result"
    }
   ],
   "source": [
    "def generateReasoningToken(i,j):\n",
    "  rt=\"<reason>\"\n",
    "  while i>0 or j>0:\n",
    "    p = i%10\n",
    "    q = j%10\n",
    "    sum = p+q\n",
    "    rt += \"<digit_sum>\" + str(sum%10) + \"</digit_sum>\"\n",
    "    rt += \"<carry>\" + str(int(sum/10)) + \"</carry>\"\n",
    "    i = int(i/10)\n",
    "    j = int(j/10)\n",
    "  return rt + \"</reason>\"\n",
    "\n",
    "generateReasoningToken(100, 55)"
   ]
  },
  {
   "cell_type": "code",
   "execution_count": 3,
   "id": "8b49d29c-20ec-4d42-a0b3-165bbdba2259",
   "metadata": {},
   "outputs": [],
   "source": [
    "A = np.random.uniform(0, 99999999, 100000).round().astype(int)\n",
    "B = np.random.uniform(0, 99999999, 100000).round().astype(int)\n",
    "\n",
    "Input = np.char.add(np.char.add(np.char.add(np.char.add(\"<prompt>\",A.astype(str)), '+'), B.astype(str)),\"</prompt>\")\n",
    "Reason = np.array([generateReasoningToken(i,j) for i,j in zip(A,B)])\n",
    "Output = np.char.add(\"<answer>\",np.char.add((A+B).astype(str), \"</answer>\"))\n",
    "\n",
    "Examples = np.char.add(Input,np.char.add(Reason,Output))"
   ]
  },
  {
   "cell_type": "code",
   "execution_count": 4,
   "id": "9c9e3c25-ab03-420c-b71d-8aaf89a79595",
   "metadata": {},
   "outputs": [],
   "source": [
    "dictionary = {\n",
    "    \"<nop/>\":0,\n",
    "    \"<prompt>\":1,\n",
    "    \"</prompt>\":2,\n",
    "    \"<answer>\":3,\n",
    "    \"</answer>\":4,\n",
    "    \"<reason>\":5,\n",
    "    \"</reason>\":6,\n",
    "    \"<digit_sum>\":7,\n",
    "    \"</digit_sum>\":8,\n",
    "    \"<carry>\":9,\n",
    "    \"</carry>\":10,\n",
    "    \"0\":11,\n",
    "    \"1\":12,\n",
    "    \"2\":13,\n",
    "    \"3\":14,\n",
    "    \"4\":15,\n",
    "    \"5\":16,\n",
    "    \"6\":17,\n",
    "    \"7\":18,\n",
    "    \"8\":19,\n",
    "    \"9\":20,\n",
    "    \"+\": 21\n",
    "}\n",
    "\n",
    "ReverseIdToToken = {v:k for k,v in dictionary.items()}\n",
    "\n",
    "tokenizer = RegexpTokenizer(r'<nop/>|[0-9]|\\+|<prompt>|</prompt>|<answer>|</answer>|<reason>|<digit_sum>|<carry>|</reason>|</digit_sum>|</carry>')"
   ]
  },
  {
   "cell_type": "code",
   "execution_count": 5,
   "id": "7b8e19b5-d47b-4b00-8fe7-8eb995cac18e",
   "metadata": {},
   "outputs": [],
   "source": [
    "ExampleTokens = list(map(tokenizer.tokenize, Examples))"
   ]
  },
  {
   "cell_type": "code",
   "execution_count": 6,
   "id": "2923175a-799a-4d5f-bf86-cf24f338d6cb",
   "metadata": {},
   "outputs": [],
   "source": [
    "TokenIds = [[dictionary[token] for token in example] for example in ExampleTokens]"
   ]
  },
  {
   "cell_type": "code",
   "execution_count": 7,
   "id": "9977946d-36ed-4849-b5c4-a75ff812378e",
   "metadata": {},
   "outputs": [],
   "source": [
    "def create_training_examples(token_ids, context_length):\n",
    "  training_examples = []\n",
    "  for example in token_ids:\n",
    "    for i in range(0, len(example)):\n",
    "      context = example[max(i-context_length+1, 0):i+1]\n",
    "\n",
    "      if len(context)<context_length:\n",
    "        filler = [0]*(context_length-len(context))\n",
    "        # print(len(filler))\n",
    "        filler.extend(context)\n",
    "        context=filler\n",
    "          # context.extend([0]*(context_length-len(context)))\n",
    "      # print(len(context))\n",
    "      assert len(context)==context_length\n",
    "      training_examples.append(context)\n",
    "\n",
    "  return np.array(training_examples)\n",
    "\n",
    "context_length = 65\n",
    "training_examples = create_training_examples(TokenIds, context_length)\n"
   ]
  },
  {
   "cell_type": "code",
   "execution_count": 8,
   "id": "706405af-71ab-45ca-a36c-19bd956226c2",
   "metadata": {},
   "outputs": [
    {
     "name": "stdout",
     "output_type": "stream",
     "text": [
      "Shape of training examples: (7921450, 65)\n",
      "First training example: [ 0  0  0  0  0  0  0  0  0  0  0  0  0  0  0  0  0  0  0  0  0  0  0  0\n",
      "  0  0  0  0  0  1 19 11 20 15 19 12 21 18 20 17 19 19 11 13 14  2  5  7\n",
      " 15  8  9 11 10  7 11  8  9 12 10  7 15  8  9 11 10]\n"
     ]
    }
   ],
   "source": [
    "print(f\"Shape of training examples: {training_examples.shape}\")\n",
    "print(f\"First training example: {training_examples[32873]}\")"
   ]
  },
  {
   "cell_type": "code",
   "execution_count": 11,
   "id": "51c363ef-9039-4102-b4a6-2c4b46b9ca19",
   "metadata": {},
   "outputs": [],
   "source": [
    "data = torch.tensor(training_examples, dtype=torch.float32)"
   ]
  },
  {
   "cell_type": "code",
   "execution_count": 14,
   "id": "f51f224c-a222-4e22-ad8e-0e38f68de02b",
   "metadata": {},
   "outputs": [],
   "source": [
    "idx = torch.randperm(data.shape[0])"
   ]
  },
  {
   "cell_type": "code",
   "execution_count": 15,
   "id": "809eaead-a564-4139-98c2-4b9bfb2c48bf",
   "metadata": {},
   "outputs": [],
   "source": [
    "X = data[idx,0:64]\n",
    "torch.save(X, 'X.pt')"
   ]
  },
  {
   "cell_type": "code",
   "execution_count": 16,
   "id": "5a50771a-ca97-4b10-a221-3481d4a9d3cf",
   "metadata": {},
   "outputs": [],
   "source": [
    "Y = data[idx, 1:65]\n",
    "torch.save(Y, 'Y.pt')"
   ]
  },
  {
   "cell_type": "code",
   "execution_count": 17,
   "id": "3403c47a-cdd1-4666-b7ba-5b034982b870",
   "metadata": {},
   "outputs": [
    {
     "data": {
      "text/plain": [
       "tensor([ 0.,  0.,  0.,  0.,  0.,  0.,  0.,  0.,  0.,  0.,  0.,  0.,  0.,  0.,\n",
       "         0.,  0.,  0.,  0.,  0.,  0.,  0.,  0.,  0.,  0.,  0.,  0.,  0.,  0.,\n",
       "         0.,  0.,  0.,  0.,  0.,  0.,  0.,  0.,  0.,  0.,  0.,  0.,  0.,  0.,\n",
       "         0.,  0.,  0.,  0.,  0.,  0.,  0.,  0.,  0.,  0.,  0.,  0.,  0.,  0.,\n",
       "         0.,  0.,  0.,  0.,  0.,  0.,  1., 13.])"
      ]
     },
     "execution_count": 17,
     "metadata": {},
     "output_type": "execute_result"
    }
   ],
   "source": [
    "X[0,:]"
   ]
  },
  {
   "cell_type": "code",
   "execution_count": 18,
   "id": "3e1fddb6-ce7d-49a1-815c-55485a9fcc7d",
   "metadata": {},
   "outputs": [
    {
     "data": {
      "text/plain": [
       "tensor([ 0.,  0.,  0.,  0.,  0.,  0.,  0.,  0.,  0.,  0.,  0.,  0.,  0.,  0.,\n",
       "         0.,  0.,  0.,  0.,  0.,  0.,  0.,  0.,  0.,  0.,  0.,  0.,  0.,  0.,\n",
       "         0.,  0.,  0.,  0.,  0.,  0.,  0.,  0.,  0.,  0.,  0.,  0.,  0.,  0.,\n",
       "         0.,  0.,  0.,  0.,  0.,  0.,  0.,  0.,  0.,  0.,  0.,  0.,  0.,  0.,\n",
       "         0.,  0.,  0.,  0.,  0.,  1., 13., 15.])"
      ]
     },
     "execution_count": 18,
     "metadata": {},
     "output_type": "execute_result"
    }
   ],
   "source": [
    "Y[0]"
   ]
  }
 ],
 "metadata": {
  "kernelspec": {
   "display_name": "Python 3 (ipykernel)",
   "language": "python",
   "name": "python3"
  },
  "language_info": {
   "codemirror_mode": {
    "name": "ipython",
    "version": 3
   },
   "file_extension": ".py",
   "mimetype": "text/x-python",
   "name": "python",
   "nbconvert_exporter": "python",
   "pygments_lexer": "ipython3",
   "version": "3.11.11"
  }
 },
 "nbformat": 4,
 "nbformat_minor": 5
}
